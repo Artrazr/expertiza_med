{
  "nbformat": 4,
  "nbformat_minor": 0,
  "metadata": {
    "colab": {
      "name": "Kahaton v0.0.5",
      "provenance": [],
      "collapsed_sections": [],
      "include_colab_link": true
    },
    "kernelspec": {
      "name": "python3",
      "display_name": "Python 3"
    },
    "accelerator": "GPU"
  },
  "cells": [
    {
      "cell_type": "markdown",
      "metadata": {
        "id": "view-in-github",
        "colab_type": "text"
      },
      "source": [
        "<a href=\"https://colab.research.google.com/github/Artrazr/expertiza_med/blob/main/Kahaton_v0_0_5.ipynb\" target=\"_parent\"><img src=\"https://colab.research.google.com/assets/colab-badge.svg\" alt=\"Open In Colab\"/></a>"
      ]
    },
    {
      "cell_type": "markdown",
      "metadata": {
        "id": "qRfmxTBsL2tR"
      },
      "source": [
        "Определять критерии оценки случая согласно нормативной документации по критериям (например: диагноз, условия оказания медицинской помощи, состояния пациента);\n",
        "\n",
        "Выдавать протокол экспертизы с указанием недочетов и нормативных документов, используемых при проверке;\n",
        "\n",
        "Хранить историю проверок;\n",
        "\n",
        "Формировать аналитику по экспертизам в разрезе ЛПУ"
      ]
    },
    {
      "cell_type": "code",
      "metadata": {
        "colab": {
          "base_uri": "https://localhost:8080/"
        },
        "id": "Wawp4fsLR0pq",
        "outputId": "f13fd4a7-5d44-4556-ced0-70289e2d188b"
      },
      "source": [
        "from google.colab import drive\n",
        "import pandas as pd\n",
        "drive.mount('/content/drive')\n",
        "wayBD = '/content/drive/MyDrive/Kahaton/'"
      ],
      "execution_count": 30,
      "outputs": [
        {
          "output_type": "stream",
          "text": [
            "Drive already mounted at /content/drive; to attempt to forcibly remount, call drive.mount(\"/content/drive\", force_remount=True).\n"
          ],
          "name": "stdout"
        }
      ]
    },
    {
      "cell_type": "markdown",
      "metadata": {
        "id": "qMFZukAIK0vP"
      },
      "source": [
        "**Решение:**\n",
        "Производим загрузку имеющихся данных из действующих источников в формате csv \n",
        "\n",
        "**первичный отбор **"
      ]
    },
    {
      "cell_type": "code",
      "metadata": {
        "id": "IamaZQik72XB",
        "colab": {
          "base_uri": "https://localhost:8080/",
          "height": 372
        },
        "outputId": "6afad52c-d889-4605-e9e8-188fd93d8c1d"
      },
      "source": [
        "data203H = pd.read_csv(wayBD + 'MKB10_i21.csv')\n",
        "data203H # данные из Приказ Минздрава России от 10.05.2017 N 203н"
      ],
      "execution_count": 47,
      "outputs": [
        {
          "output_type": "execute_result",
          "data": {
            "text/html": [
              "<div>\n",
              "<style scoped>\n",
              "    .dataframe tbody tr th:only-of-type {\n",
              "        vertical-align: middle;\n",
              "    }\n",
              "\n",
              "    .dataframe tbody tr th {\n",
              "        vertical-align: top;\n",
              "    }\n",
              "\n",
              "    .dataframe thead th {\n",
              "        text-align: right;\n",
              "    }\n",
              "</style>\n",
              "<table border=\"1\" class=\"dataframe\">\n",
              "  <thead>\n",
              "    <tr style=\"text-align: right;\">\n",
              "      <th></th>\n",
              "      <th>NLP_poced</th>\n",
              "      <th>ID</th>\n",
              "      <th>3.9.3. Критерии качества специализированной медицинской помощи взрослым при остром коронарном синдроме (коды по МКБ-10: I20 I21 I24)</th>\n",
              "      <th>Time</th>\n",
              "    </tr>\n",
              "  </thead>\n",
              "  <tbody>\n",
              "    <tr>\n",
              "      <th>0</th>\n",
              "      <td>осмотр кардиологом</td>\n",
              "      <td>3.9.3.1</td>\n",
              "      <td>Выполнен осмотр врачом-кардиологом не позднее ...</td>\n",
              "      <td>5.0</td>\n",
              "    </tr>\n",
              "    <tr>\n",
              "      <th>1</th>\n",
              "      <td>электрокардиографическое исследование</td>\n",
              "      <td>3.9.3.2</td>\n",
              "      <td>Выполнено электрокардиографическое исследовани...</td>\n",
              "      <td>10.0</td>\n",
              "    </tr>\n",
              "    <tr>\n",
              "      <th>2</th>\n",
              "      <td>определение уровня тропонинов</td>\n",
              "      <td>3.9.3.3</td>\n",
              "      <td>Выполнено определение уровня тропонинов I  T в...</td>\n",
              "      <td>NaN</td>\n",
              "    </tr>\n",
              "    <tr>\n",
              "      <th>3</th>\n",
              "      <td>терапия фибринолитическими лекарственными преп...</td>\n",
              "      <td>3.9.3.4</td>\n",
              "      <td>Проведена (при остром коронарном синдроме с по...</td>\n",
              "      <td>30.0</td>\n",
              "    </tr>\n",
              "    <tr>\n",
              "      <th>4</th>\n",
              "      <td>терапия ингибиторами агрегации</td>\n",
              "      <td>3.9.3.5</td>\n",
              "      <td>Проведена терапия ингибиторами агрегации тромб...</td>\n",
              "      <td>NaN</td>\n",
              "    </tr>\n",
              "    <tr>\n",
              "      <th>5</th>\n",
              "      <td>терапия ацетилсалициловой</td>\n",
              "      <td>3.9.3.6</td>\n",
              "      <td>Проведена терапия ацетилсалициловой кислотой</td>\n",
              "      <td>NaN</td>\n",
              "    </tr>\n",
              "    <tr>\n",
              "      <th>6</th>\n",
              "      <td>терапия гиполипидемическими препаратами</td>\n",
              "      <td>3.9.3.7</td>\n",
              "      <td>Проведена терапия гиполипидемическими препаратами</td>\n",
              "      <td>NaN</td>\n",
              "    </tr>\n",
              "    <tr>\n",
              "      <th>7</th>\n",
              "      <td>электрокардиографическое исследование до начал...</td>\n",
              "      <td>3.9.3.8</td>\n",
              "      <td>Выполнено электрокардиографическое исследовани...</td>\n",
              "      <td>NaN</td>\n",
              "    </tr>\n",
              "    <tr>\n",
              "      <th>8</th>\n",
              "      <td>электрокардиографическое исследование до начал...</td>\n",
              "      <td>3.9.3.9</td>\n",
              "      <td>Выполнено электрокардиографическое исследовани...</td>\n",
              "      <td>NaN</td>\n",
              "    </tr>\n",
              "  </tbody>\n",
              "</table>\n",
              "</div>"
            ],
            "text/plain": [
              "                                           NLP_poced  ...  Time\n",
              "0                                 осмотр кардиологом  ...   5.0\n",
              "1              электрокардиографическое исследование  ...  10.0\n",
              "2                     определение уровня тропонинов   ...   NaN\n",
              "3  терапия фибринолитическими лекарственными преп...  ...  30.0\n",
              "4                     терапия ингибиторами агрегации  ...   NaN\n",
              "5                         терапия ацетилсалициловой   ...   NaN\n",
              "6            терапия гиполипидемическими препаратами  ...   NaN\n",
              "7  электрокардиографическое исследование до начал...  ...   NaN\n",
              "8  электрокардиографическое исследование до начал...  ...   NaN\n",
              "\n",
              "[9 rows x 4 columns]"
            ]
          },
          "metadata": {
            "tags": []
          },
          "execution_count": 47
        }
      ]
    },
    {
      "cell_type": "code",
      "metadata": {
        "id": "IBCSsWFWGNXv",
        "colab": {
          "base_uri": "https://localhost:8080/",
          "height": 220
        },
        "outputId": "56a09450-51f6-4af1-b342-16a098bba6d5"
      },
      "source": [
        "dataCard = pd.read_csv(wayBD + 'MKB10_Card.csv')\n",
        "dataCard # данные из карты клиента о проведенных процедурах"
      ],
      "execution_count": 33,
      "outputs": [
        {
          "output_type": "execute_result",
          "data": {
            "text/html": [
              "<div>\n",
              "<style scoped>\n",
              "    .dataframe tbody tr th:only-of-type {\n",
              "        vertical-align: middle;\n",
              "    }\n",
              "\n",
              "    .dataframe tbody tr th {\n",
              "        vertical-align: top;\n",
              "    }\n",
              "\n",
              "    .dataframe thead th {\n",
              "        text-align: right;\n",
              "    }\n",
              "</style>\n",
              "<table border=\"1\" class=\"dataframe\">\n",
              "  <thead>\n",
              "    <tr style=\"text-align: right;\">\n",
              "      <th></th>\n",
              "      <th>Data</th>\n",
              "      <th>Procedure</th>\n",
              "      <th>ID</th>\n",
              "    </tr>\n",
              "  </thead>\n",
              "  <tbody>\n",
              "    <tr>\n",
              "      <th>0</th>\n",
              "      <td>01.02.20 14:32</td>\n",
              "      <td>поступил в приемное отделение</td>\n",
              "      <td>0.0.0.1</td>\n",
              "    </tr>\n",
              "    <tr>\n",
              "      <th>1</th>\n",
              "      <td>01.02.20 14:34</td>\n",
              "      <td>Выполнен осмотр врачом-кардиологом</td>\n",
              "      <td>3.9.3.1</td>\n",
              "    </tr>\n",
              "    <tr>\n",
              "      <th>2</th>\n",
              "      <td>02.02.20 14:41</td>\n",
              "      <td>Выполнено электрокардиографическое исследование</td>\n",
              "      <td>3.9.3.2</td>\n",
              "    </tr>\n",
              "    <tr>\n",
              "      <th>3</th>\n",
              "      <td>03.02.20 18:10</td>\n",
              "      <td>Определение уровня тропонинов</td>\n",
              "      <td>3.9.3.3</td>\n",
              "    </tr>\n",
              "    <tr>\n",
              "      <th>4</th>\n",
              "      <td>04.02.20 16:10</td>\n",
              "      <td>Проведена терапия ингибиторами агрегации тромб...</td>\n",
              "      <td>3.9.3.5</td>\n",
              "    </tr>\n",
              "    <tr>\n",
              "      <th>5</th>\n",
              "      <td>05.02.20 15:10</td>\n",
              "      <td>Проведена терапия гиполипидемическими препаратами</td>\n",
              "      <td>3.9.3.7</td>\n",
              "    </tr>\n",
              "  </tbody>\n",
              "</table>\n",
              "</div>"
            ],
            "text/plain": [
              "             Data                                          Procedure       ID\n",
              "0  01.02.20 14:32                      поступил в приемное отделение  0.0.0.1\n",
              "1  01.02.20 14:34                 Выполнен осмотр врачом-кардиологом  3.9.3.1\n",
              "2  02.02.20 14:41    Выполнено электрокардиографическое исследование  3.9.3.2\n",
              "3  03.02.20 18:10                      Определение уровня тропонинов  3.9.3.3\n",
              "4  04.02.20 16:10  Проведена терапия ингибиторами агрегации тромб...  3.9.3.5\n",
              "5  05.02.20 15:10  Проведена терапия гиполипидемическими препаратами  3.9.3.7"
            ]
          },
          "metadata": {
            "tags": []
          },
          "execution_count": 33
        }
      ]
    },
    {
      "cell_type": "code",
      "metadata": {
        "id": "OyK7EC-OWdFC",
        "colab": {
          "base_uri": "https://localhost:8080/",
          "height": 471
        },
        "outputId": "1e907182-6da3-4484-cae0-8dad61da0a4b"
      },
      "source": [
        "# Здесь мы соединяем две таблицы (объединение происходит по ID)\n",
        "# В двнном примере ID это номер болезни из перечня Критерии качества специализированной медицинской помощи \n",
        "# 3.9.3. + порядковый номер ( 3.9.3.1, 3.9.3.2, 3.9.3.3 и т.д.)\n",
        "\n",
        "BD = data203H.merge(dataCard, left_on='ID', right_on='ID', how='left')\n",
        "BD"
      ],
      "execution_count": 46,
      "outputs": [
        {
          "output_type": "execute_result",
          "data": {
            "text/html": [
              "<div>\n",
              "<style scoped>\n",
              "    .dataframe tbody tr th:only-of-type {\n",
              "        vertical-align: middle;\n",
              "    }\n",
              "\n",
              "    .dataframe tbody tr th {\n",
              "        vertical-align: top;\n",
              "    }\n",
              "\n",
              "    .dataframe thead th {\n",
              "        text-align: right;\n",
              "    }\n",
              "</style>\n",
              "<table border=\"1\" class=\"dataframe\">\n",
              "  <thead>\n",
              "    <tr style=\"text-align: right;\">\n",
              "      <th></th>\n",
              "      <th>NLP_poced</th>\n",
              "      <th>ID</th>\n",
              "      <th>3.9.3. Критерии качества специализированной медицинской помощи взрослым при остром коронарном синдроме (коды по МКБ-10: I20 I21 I24)</th>\n",
              "      <th>Time</th>\n",
              "      <th>Data</th>\n",
              "      <th>Procedure</th>\n",
              "    </tr>\n",
              "  </thead>\n",
              "  <tbody>\n",
              "    <tr>\n",
              "      <th>0</th>\n",
              "      <td>осмотр кардиологом</td>\n",
              "      <td>3.9.3.1</td>\n",
              "      <td>Выполнен осмотр врачом-кардиологом не позднее ...</td>\n",
              "      <td>5.0</td>\n",
              "      <td>01.02.20 14:34</td>\n",
              "      <td>Выполнен осмотр врачом-кардиологом</td>\n",
              "    </tr>\n",
              "    <tr>\n",
              "      <th>1</th>\n",
              "      <td>электрокардиографическое исследование</td>\n",
              "      <td>3.9.3.2</td>\n",
              "      <td>Выполнено электрокардиографическое исследовани...</td>\n",
              "      <td>10.0</td>\n",
              "      <td>02.02.20 14:41</td>\n",
              "      <td>Выполнено электрокардиографическое исследование</td>\n",
              "    </tr>\n",
              "    <tr>\n",
              "      <th>2</th>\n",
              "      <td>определение уровня тропонинов</td>\n",
              "      <td>3.9.3.3</td>\n",
              "      <td>Выполнено определение уровня тропонинов I  T в...</td>\n",
              "      <td>NaN</td>\n",
              "      <td>03.02.20 18:10</td>\n",
              "      <td>Определение уровня тропонинов</td>\n",
              "    </tr>\n",
              "    <tr>\n",
              "      <th>3</th>\n",
              "      <td>терапия фибринолитическими лекарственными преп...</td>\n",
              "      <td>3.9.3.4</td>\n",
              "      <td>Проведена (при остром коронарном синдроме с по...</td>\n",
              "      <td>30.0</td>\n",
              "      <td>NaN</td>\n",
              "      <td>NaN</td>\n",
              "    </tr>\n",
              "    <tr>\n",
              "      <th>4</th>\n",
              "      <td>терапия ингибиторами агрегации</td>\n",
              "      <td>3.9.3.5</td>\n",
              "      <td>Проведена терапия ингибиторами агрегации тромб...</td>\n",
              "      <td>NaN</td>\n",
              "      <td>04.02.20 16:10</td>\n",
              "      <td>Проведена терапия ингибиторами агрегации тромб...</td>\n",
              "    </tr>\n",
              "    <tr>\n",
              "      <th>5</th>\n",
              "      <td>терапия ацетилсалициловой</td>\n",
              "      <td>3.9.3.6</td>\n",
              "      <td>Проведена терапия ацетилсалициловой кислотой</td>\n",
              "      <td>NaN</td>\n",
              "      <td>NaN</td>\n",
              "      <td>NaN</td>\n",
              "    </tr>\n",
              "    <tr>\n",
              "      <th>6</th>\n",
              "      <td>терапия гиполипидемическими препаратами</td>\n",
              "      <td>3.9.3.7</td>\n",
              "      <td>Проведена терапия гиполипидемическими препаратами</td>\n",
              "      <td>NaN</td>\n",
              "      <td>05.02.20 15:10</td>\n",
              "      <td>Проведена терапия гиполипидемическими препаратами</td>\n",
              "    </tr>\n",
              "    <tr>\n",
              "      <th>7</th>\n",
              "      <td>электрокардиографическое исследование до начал...</td>\n",
              "      <td>3.9.3.8</td>\n",
              "      <td>Выполнено электрокардиографическое исследовани...</td>\n",
              "      <td>NaN</td>\n",
              "      <td>NaN</td>\n",
              "      <td>NaN</td>\n",
              "    </tr>\n",
              "    <tr>\n",
              "      <th>8</th>\n",
              "      <td>электрокардиографическое исследование до начал...</td>\n",
              "      <td>3.9.3.9</td>\n",
              "      <td>Выполнено электрокардиографическое исследовани...</td>\n",
              "      <td>NaN</td>\n",
              "      <td>NaN</td>\n",
              "      <td>NaN</td>\n",
              "    </tr>\n",
              "  </tbody>\n",
              "</table>\n",
              "</div>"
            ],
            "text/plain": [
              "                                           NLP_poced  ...                                          Procedure\n",
              "0                                 осмотр кардиологом  ...                 Выполнен осмотр врачом-кардиологом\n",
              "1              электрокардиографическое исследование  ...    Выполнено электрокардиографическое исследование\n",
              "2                     определение уровня тропонинов   ...                      Определение уровня тропонинов\n",
              "3  терапия фибринолитическими лекарственными преп...  ...                                                NaN\n",
              "4                     терапия ингибиторами агрегации  ...  Проведена терапия ингибиторами агрегации тромб...\n",
              "5                         терапия ацетилсалициловой   ...                                                NaN\n",
              "6            терапия гиполипидемическими препаратами  ...  Проведена терапия гиполипидемическими препаратами\n",
              "7  электрокардиографическое исследование до начал...  ...                                                NaN\n",
              "8  электрокардиографическое исследование до начал...  ...                                                NaN\n",
              "\n",
              "[9 rows x 6 columns]"
            ]
          },
          "metadata": {
            "tags": []
          },
          "execution_count": 46
        }
      ]
    },
    {
      "cell_type": "code",
      "metadata": {
        "id": "mJMOMtJmJZgo"
      },
      "source": [
        "import matplotlib.pyplot as plt\n",
        "import seaborn as sns\n",
        "%matplotlib inline"
      ],
      "execution_count": 38,
      "outputs": []
    },
    {
      "cell_type": "code",
      "metadata": {
        "colab": {
          "base_uri": "https://localhost:8080/",
          "height": 166
        },
        "id": "OGMEbNFyJtz2",
        "outputId": "17edb11e-5635-41e7-a8a3-28c2c6db6b4c"
      },
      "source": [
        "d= data203H.dropna(subset=['Time'])\n",
        "d"
      ],
      "execution_count": 59,
      "outputs": [
        {
          "output_type": "execute_result",
          "data": {
            "text/html": [
              "<div>\n",
              "<style scoped>\n",
              "    .dataframe tbody tr th:only-of-type {\n",
              "        vertical-align: middle;\n",
              "    }\n",
              "\n",
              "    .dataframe tbody tr th {\n",
              "        vertical-align: top;\n",
              "    }\n",
              "\n",
              "    .dataframe thead th {\n",
              "        text-align: right;\n",
              "    }\n",
              "</style>\n",
              "<table border=\"1\" class=\"dataframe\">\n",
              "  <thead>\n",
              "    <tr style=\"text-align: right;\">\n",
              "      <th></th>\n",
              "      <th>NLP_poced</th>\n",
              "      <th>ID</th>\n",
              "      <th>3.9.3. Критерии качества специализированной медицинской помощи взрослым при остром коронарном синдроме (коды по МКБ-10: I20 I21 I24)</th>\n",
              "      <th>Time</th>\n",
              "    </tr>\n",
              "  </thead>\n",
              "  <tbody>\n",
              "    <tr>\n",
              "      <th>0</th>\n",
              "      <td>осмотр кардиологом</td>\n",
              "      <td>3.9.3.1</td>\n",
              "      <td>Выполнен осмотр врачом-кардиологом не позднее ...</td>\n",
              "      <td>5.0</td>\n",
              "    </tr>\n",
              "    <tr>\n",
              "      <th>1</th>\n",
              "      <td>электрокардиографическое исследование</td>\n",
              "      <td>3.9.3.2</td>\n",
              "      <td>Выполнено электрокардиографическое исследовани...</td>\n",
              "      <td>10.0</td>\n",
              "    </tr>\n",
              "    <tr>\n",
              "      <th>3</th>\n",
              "      <td>терапия фибринолитическими лекарственными преп...</td>\n",
              "      <td>3.9.3.4</td>\n",
              "      <td>Проведена (при остром коронарном синдроме с по...</td>\n",
              "      <td>30.0</td>\n",
              "    </tr>\n",
              "  </tbody>\n",
              "</table>\n",
              "</div>"
            ],
            "text/plain": [
              "                                           NLP_poced  ...  Time\n",
              "0                                 осмотр кардиологом  ...   5.0\n",
              "1              электрокардиографическое исследование  ...  10.0\n",
              "3  терапия фибринолитическими лекарственными преп...  ...  30.0\n",
              "\n",
              "[3 rows x 4 columns]"
            ]
          },
          "metadata": {
            "tags": []
          },
          "execution_count": 59
        }
      ]
    }
  ]
}